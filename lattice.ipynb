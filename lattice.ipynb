{
 "cells": [
  {
   "cell_type": "code",
   "execution_count": null,
   "id": "55b57573",
   "metadata": {},
   "outputs": [],
   "source": [
    "from pymatgen.ext.matproj import MPRester\n",
    "with MPRester(\"Os4JHJeA2G7FbSIy4\") as m:\n",
    "\n",
    "    # Structure pour l'id du materiau\n",
    "    structure = m.get_structure_by_material_id(\"mp-568662\")\n",
    "\n",
    "print(structure)\n",
    "#on trouve les vecteurs de base du reseau direct associe a la maille primitive (abc)"
   ]
  },
  {
   "cell_type": "code",
   "execution_count": null,
   "id": "2ad529a9",
   "metadata": {},
   "outputs": [],
   "source": [
    "#Obtention du groupe spatial \n",
    "from pymatgen.symmetry.analyzer import SpacegroupAnalyzer\n",
    "finder = SpacegroupAnalyzer(structure)\n",
    "finder.get_space_group_symbol()\n",
    "\n",
    "#le groupe spatial contient le groupe ponctuel et le type de maille"
   ]
  },
  {
   "cell_type": "code",
   "execution_count": null,
   "id": "b09ce045",
   "metadata": {},
   "outputs": [],
   "source": [
    "#Je remarque que la maille a faces centrees permet de mettre en evidence les symetries du materiau\n",
    "#Je recommence la meme procedure pour trouver les vecteurs de base associe a cette maille (abc)\n",
    "\n",
    "conv_structure = m.get_structure_by_material_id(\"mp-568662\", conventional_unit_cell=True)\n",
    "\n",
    "print(conv_structure)"
   ]
  },
  {
   "cell_type": "code",
   "execution_count": null,
   "id": "68827a06",
   "metadata": {},
   "outputs": [],
   "source": [
    "#Calcul de maille conventionnelle (F) et maille primitive (P)\n",
    "\n",
    "conv_lattice = conv_structure.lattice\n",
    "print(conv_lattice)\n",
    "\n",
    "print(\"----\")\n",
    "\n",
    "lattice = structure.lattice\n",
    "print(lattice)"
   ]
  },
  {
   "cell_type": "code",
   "execution_count": null,
   "id": "8bda436d",
   "metadata": {},
   "outputs": [],
   "source": [
    "#Calcul des vecteurs de base du reseau reciproque (sur base de la maille F)\n",
    "\n",
    "print(conv_lattice.reciprocal_lattice.abc)"
   ]
  },
  {
   "cell_type": "code",
   "execution_count": null,
   "id": "3e6a14ff",
   "metadata": {},
   "outputs": [],
   "source": [
    "#Calcul du systeme cristallin\n",
    "\n",
    "print(conv_lattice.abc)\n",
    "print(conv_lattice.angles)"
   ]
  },
  {
   "cell_type": "code",
   "execution_count": 34,
   "id": "519feced",
   "metadata": {},
   "outputs": [],
   "source": [
    "#Le systeme cristallin est donc cubique"
   ]
  }
 ],
 "metadata": {
  "kernelspec": {
   "display_name": "Python 3",
   "language": "python",
   "name": "python3"
  },
  "language_info": {
   "codemirror_mode": {
    "name": "ipython",
    "version": 3
   },
   "file_extension": ".py",
   "mimetype": "text/x-python",
   "name": "python",
   "nbconvert_exporter": "python",
   "pygments_lexer": "ipython3",
   "version": "3.6.8"
  }
 },
 "nbformat": 4,
 "nbformat_minor": 5
}
