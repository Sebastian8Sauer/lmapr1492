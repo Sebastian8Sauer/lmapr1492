{
 "cells": [
  {
   "cell_type": "code",
   "execution_count": 7,
   "id": "cafbc1a7",
   "metadata": {},
   "outputs": [],
   "source": [
    "from pymatgen.ext.matproj import MPRester\n",
    "with MPRester(\"Os4JHJeA2G7FbSIy4\") as m:\n",
    "\n",
    "    # Structure pour l'id du materiau\n",
    "    structure = m.get_structure_by_material_id(\"mp-568662\")"
   ]
  },
  {
   "cell_type": "code",
   "execution_count": 39,
   "id": "e45065a4",
   "metadata": {},
   "outputs": [
    {
     "name": "stdout",
     "output_type": "stream",
     "text": [
      "Les vecteurs de base du reseau direct sont situes dans la matrice suivante :\n",
      "7.413820 0.000000 0.000000\n",
      "0.000000 7.413820 0.000000\n",
      "0.000000 0.000000 7.413820 \n",
      "\n",
      "On obtient donc\n",
      "a = [7.413820, 0, 0]\n",
      "b = [0, 7.413820, 0]\n",
      "c = [0, 0, 7.413820] \n",
      "\n",
      "Les vecteurs de base du reseau reciproque sont :\n",
      "a* = [0.847496, 0, 0]\n",
      "b* = [0, 0.847496, 0]\n",
      "c* = [0, 0, 0.847496]\n"
     ]
    }
   ],
   "source": [
    "# Les vecteurs de base du reseau direct\n",
    "\n",
    "conv_structure = m.get_structure_by_material_id(\"mp-568662\", conventional_unit_cell=True)\n",
    "print(\"Les vecteurs de base du reseau direct sont situes dans la matrice suivante :\")\n",
    "conv_lattice = conv_structure.lattice\n",
    "print(conv_lattice, \"\\n\")\n",
    "print(\"On obtient donc\")\n",
    "print(\"a = [7.413820, 0, 0]\")\n",
    "print(\"b = [0, 7.413820, 0]\")\n",
    "print(\"c = [0, 0, 7.413820]\", \"\\n\")\n",
    "\n",
    "#Les vecteurs de base du reseau reciproque\n",
    "# Ils sont situes dans la matrice suivante :\n",
    "# print(conv_lattice.reciprocal_lattice)\n",
    "# En effectuant la meme procedure, on peut directement note\n",
    "print(\"Les vecteurs de base du reseau reciproque sont :\")\n",
    "print(\"a* = [0.847496, 0, 0]\")\n",
    "print(\"b* = [0, 0.847496, 0]\")\n",
    "print(\"c* = [0, 0, 0.847496]\")"
   ]
  },
  {
   "cell_type": "code",
   "execution_count": 18,
   "id": "54961475",
   "metadata": {},
   "outputs": [
    {
     "name": "stdout",
     "output_type": "stream",
     "text": [
      "La maille est de type F : faces centrees \n",
      "\n",
      "Le groupe ponctuel est : m-3m \n",
      "\n",
      "Le système cristallin est : cubic\n"
     ]
    }
   ],
   "source": [
    "# Obtention du groupe spatial \n",
    "from pymatgen.symmetry.analyzer import SpacegroupAnalyzer\n",
    "finder = SpacegroupAnalyzer(structure)\n",
    "# Pour trouver le groupe spatial j'utilise : finder.get_space_group_symbol()\n",
    "# J'obtiens \"Fm-3m\"\n",
    "# Or, le groupe spatial contient le groupe ponctuel et le type de maille\n",
    "\n",
    "# On trouve donc que la maille est de type F\n",
    "print(\"La maille est de type F : faces centrees\",\"\\n\")\n",
    "\n",
    "# Et le groupe ponctuel est \"m-3m\"\n",
    "\n",
    "# Verification du groupe ponctuel \n",
    "group_ponct = finder.get_point_group_symbol()\n",
    "print(\"Le groupe ponctuel est :\", group_ponct, \"\\n\") #OK, on obtient bien le meme resultat\n",
    "\n",
    "# Determination du système cristallin\n",
    "\n",
    "syst_crist = finder.get_crystal_system()\n",
    "print(\"Le système cristallin est :\", syst_crist)"
   ]
  }
 ],
 "metadata": {
  "kernelspec": {
   "display_name": "Python 3",
   "language": "python",
   "name": "python3"
  },
  "language_info": {
   "codemirror_mode": {
    "name": "ipython",
    "version": 3
   },
   "file_extension": ".py",
   "mimetype": "text/x-python",
   "name": "python",
   "nbconvert_exporter": "python",
   "pygments_lexer": "ipython3",
   "version": "3.6.8"
  }
 },
 "nbformat": 4,
 "nbformat_minor": 5
}
