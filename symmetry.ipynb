{
 "cells": [
  {
   "cell_type": "code",
   "execution_count": 116,
   "id": "8e7f7ff9",
   "metadata": {},
   "outputs": [],
   "source": [
    "from pymatgen.ext.matproj import MPRester\n",
    "from pymatgen import symmetry\n",
    "from pymatgen.symmetry.analyzer import SpacegroupAnalyzer\n",
    "from pymatgen.core.operations import SymmOp\n",
    "from jupyter_jsmol.pymatgen import quick_view"
   ]
  },
  {
   "cell_type": "code",
   "execution_count": 117,
   "id": "18e4508a",
   "metadata": {},
   "outputs": [],
   "source": [
    "with MPRester(\"Os4JHJeA2G7FbSIy4\") as m:\n",
    "\n",
    "    # Structure for material id\n",
    "    structure = m.get_structure_by_material_id(\"mp-568662\", conventional_unit_cell=True)"
   ]
  },
  {
   "cell_type": "code",
   "execution_count": 118,
   "id": "9230c347",
   "metadata": {},
   "outputs": [],
   "source": [
    "# On cherche l'ensemble des operations de symetries\n",
    "analyzer = SpacegroupAnalyzer(structure)\n",
    "symmetry_list = analyzer.get_symmetry_operations()\n",
    "#print(symmetry_list)"
   ]
  },
  {
   "cell_type": "code",
   "execution_count": 119,
   "id": "791df26e",
   "metadata": {},
   "outputs": [
    {
     "name": "stdout",
     "output_type": "stream",
     "text": [
      "Rot:\n",
      "[[-1.  0.  0.]\n",
      " [ 0. -1.  0.]\n",
      " [ 0.  0. -1.]]\n",
      "tau\n",
      "[0. 0. 0.] \n",
      "\n",
      "Cette operation est une inversion autour du point (0,0,0)\n"
     ]
    }
   ],
   "source": [
    "# Prenons l'operation d'inversion (2eme dans la liste des operations de symmetries)\n",
    "\n",
    "sym1 = symmetry_list[1]\n",
    "print(sym1, \"\\n\")\n",
    "print(\"Cette operation est une inversion autour du point (0,0,0)\")"
   ]
  },
  {
   "cell_type": "code",
   "execution_count": 120,
   "id": "4b6b3a13",
   "metadata": {},
   "outputs": [
    {
     "data": {
      "application/vnd.jupyter.widget-view+json": {
       "model_id": "476e9dfbbab44f31ade3907cb5d4cf86",
       "version_major": 2,
       "version_minor": 0
      },
      "text/plain": [
       "JsmolView(layout=Layout(align_self='stretch', height='400px'))"
      ]
     },
     "metadata": {},
     "output_type": "display_data"
    }
   ],
   "source": [
    "# Appliquons cette operation a l'atome Cl d'indice 2 \n",
    "\n",
    "view = quick_view(structure)\n",
    "display(view) \n",
    "view.script('draw SYMOP 2 {atomno=2}')"
   ]
  },
  {
   "cell_type": "code",
   "execution_count": 122,
   "id": "6510134e",
   "metadata": {},
   "outputs": [
    {
     "name": "stdout",
     "output_type": "stream",
     "text": [
      "Rot:\n",
      "[[0. 1. 0.]\n",
      " [1. 0. 0.]\n",
      " [0. 0. 1.]]\n",
      "tau\n",
      "[0. 0. 0.] \n",
      "\n",
      "Cette operation est une reflexion qui transforme (x,y,z) en (y,x,z)\n"
     ]
    }
   ],
   "source": [
    "# Prenons l'operation de reflexion (12eme dans la liste)\n",
    "\n",
    "sym2 = symmetry_list[11]\n",
    "print(sym2, \"\\n\")\n",
    "print(\"Cette operation est une reflexion qui transforme (x,y,z) en (y,x,z)\")"
   ]
  },
  {
   "cell_type": "code",
   "execution_count": 123,
   "id": "65b535d5",
   "metadata": {},
   "outputs": [
    {
     "data": {
      "application/vnd.jupyter.widget-view+json": {
       "model_id": "eef9c02afc4e4babbcf2ed9402e40472",
       "version_major": 2,
       "version_minor": 0
      },
      "text/plain": [
       "JsmolView(layout=Layout(align_self='stretch', height='400px'))"
      ]
     },
     "metadata": {},
     "output_type": "display_data"
    }
   ],
   "source": [
    "# Appliquons cette operation a l'atome Ba d'indice 17 \n",
    "\n",
    "view = quick_view(structure)\n",
    "display(view) \n",
    "view.script('draw SYMOP 12 {atomno=17}')"
   ]
  },
  {
   "cell_type": "code",
   "execution_count": 124,
   "id": "7af4be08",
   "metadata": {},
   "outputs": [
    {
     "name": "stdout",
     "output_type": "stream",
     "text": [
      "Rot:\n",
      "[[1. 0. 0.]\n",
      " [0. 1. 0.]\n",
      " [0. 0. 1.]]\n",
      "tau\n",
      "[0.5 0.5 0. ] \n",
      "\n",
      "Cette operation est une translation du vecteur tau (indique ci-dessus)\n"
     ]
    }
   ],
   "source": [
    "# Prenons l'operation de translation (49eme dans la liste)\n",
    "\n",
    "sym3 = symmetry_list[48]\n",
    "print(sym3, \"\\n\")\n",
    "print(\"Cette operation est une translation du vecteur tau (indique ci-dessus)\")"
   ]
  },
  {
   "cell_type": "code",
   "execution_count": 125,
   "id": "ddb90d97",
   "metadata": {},
   "outputs": [
    {
     "data": {
      "application/vnd.jupyter.widget-view+json": {
       "model_id": "616f66a642144da58e6921deed87c823",
       "version_major": 2,
       "version_minor": 0
      },
      "text/plain": [
       "JsmolView(layout=Layout(align_self='stretch', height='400px'))"
      ]
     },
     "metadata": {},
     "output_type": "display_data"
    }
   ],
   "source": [
    "# Appliquons cette operation a l'atome Ba d'indice 1\n",
    "\n",
    "view = quick_view(structure)\n",
    "display(view) \n",
    "view.script('draw SYMOP 49 {atomno=1}')"
   ]
  }
 ],
 "metadata": {
  "kernelspec": {
   "display_name": "Python 3",
   "language": "python",
   "name": "python3"
  },
  "language_info": {
   "codemirror_mode": {
    "name": "ipython",
    "version": 3
   },
   "file_extension": ".py",
   "mimetype": "text/x-python",
   "name": "python",
   "nbconvert_exporter": "python",
   "pygments_lexer": "ipython3",
   "version": "3.6.8"
  }
 },
 "nbformat": 4,
 "nbformat_minor": 5
}
